{
 "cells": [
  {
   "cell_type": "code",
   "execution_count": 1,
   "metadata": {},
   "outputs": [],
   "source": [
    "import numpy as np\n",
    "import matplotlib.pyplot as plt\n",
    "import torch\n",
    "import torch.nn as nn\n",
    "import torch.nn.functional as F\n"
   ]
  },
  {
   "cell_type": "code",
   "execution_count": 2,
   "metadata": {},
   "outputs": [
    {
     "data": {
      "text/html": [
       "<div>\n",
       "<style scoped>\n",
       "    .dataframe tbody tr th:only-of-type {\n",
       "        vertical-align: middle;\n",
       "    }\n",
       "\n",
       "    .dataframe tbody tr th {\n",
       "        vertical-align: top;\n",
       "    }\n",
       "\n",
       "    .dataframe thead th {\n",
       "        text-align: right;\n",
       "    }\n",
       "</style>\n",
       "<table border=\"1\" class=\"dataframe\">\n",
       "  <thead>\n",
       "    <tr style=\"text-align: right;\">\n",
       "      <th></th>\n",
       "      <th>sepal length (cm)</th>\n",
       "      <th>sepal width (cm)</th>\n",
       "      <th>petal length (cm)</th>\n",
       "      <th>petal width (cm)</th>\n",
       "      <th>target</th>\n",
       "    </tr>\n",
       "  </thead>\n",
       "  <tbody>\n",
       "    <tr>\n",
       "      <th>0</th>\n",
       "      <td>5.1</td>\n",
       "      <td>3.5</td>\n",
       "      <td>1.4</td>\n",
       "      <td>0.2</td>\n",
       "      <td>0.0</td>\n",
       "    </tr>\n",
       "    <tr>\n",
       "      <th>1</th>\n",
       "      <td>4.9</td>\n",
       "      <td>3.0</td>\n",
       "      <td>1.4</td>\n",
       "      <td>0.2</td>\n",
       "      <td>0.0</td>\n",
       "    </tr>\n",
       "    <tr>\n",
       "      <th>2</th>\n",
       "      <td>4.7</td>\n",
       "      <td>3.2</td>\n",
       "      <td>1.3</td>\n",
       "      <td>0.2</td>\n",
       "      <td>0.0</td>\n",
       "    </tr>\n",
       "    <tr>\n",
       "      <th>3</th>\n",
       "      <td>4.6</td>\n",
       "      <td>3.1</td>\n",
       "      <td>1.5</td>\n",
       "      <td>0.2</td>\n",
       "      <td>0.0</td>\n",
       "    </tr>\n",
       "    <tr>\n",
       "      <th>4</th>\n",
       "      <td>5.0</td>\n",
       "      <td>3.6</td>\n",
       "      <td>1.4</td>\n",
       "      <td>0.2</td>\n",
       "      <td>0.0</td>\n",
       "    </tr>\n",
       "  </tbody>\n",
       "</table>\n",
       "</div>"
      ],
      "text/plain": [
       "   sepal length (cm)  sepal width (cm)  petal length (cm)  petal width (cm)  \\\n",
       "0                5.1               3.5                1.4               0.2   \n",
       "1                4.9               3.0                1.4               0.2   \n",
       "2                4.7               3.2                1.3               0.2   \n",
       "3                4.6               3.1                1.5               0.2   \n",
       "4                5.0               3.6                1.4               0.2   \n",
       "\n",
       "   target  \n",
       "0     0.0  \n",
       "1     0.0  \n",
       "2     0.0  \n",
       "3     0.0  \n",
       "4     0.0  "
      ]
     },
     "execution_count": 2,
     "metadata": {},
     "output_type": "execute_result"
    }
   ],
   "source": [
    "import pandas as pd\n",
    "df = pd.read_csv('../3. Datasets in Pytorch/iris.csv')\n",
    "df.head()"
   ]
  },
  {
   "cell_type": "code",
   "execution_count": 3,
   "metadata": {},
   "outputs": [],
   "source": [
    "X = df.drop('target', axis=1)\n",
    "y=df['target']"
   ]
  },
  {
   "cell_type": "code",
   "execution_count": 16,
   "metadata": {},
   "outputs": [],
   "source": [
    "from sklearn.model_selection import train_test_split\n",
    "X_train, X_test, y_train, y_test = train_test_split(X, y, test_size=0.2)\n"
   ]
  },
  {
   "cell_type": "code",
   "execution_count": 17,
   "metadata": {},
   "outputs": [],
   "source": [
    "X_train = torch.FloatTensor(X_train.values)\n",
    "X_test = torch.FloatTensor(X_test.values)\n",
    "#we need to one-hot encode the target column for multi-class classification problem, but in PyTorch we will use\n",
    "# CrossEntropy loss, so we don't need to do this\n",
    "y_train = torch.LongTensor(y_train.values)\n",
    "y_test = torch.LongTensor(y_test.values)"
   ]
  },
  {
   "cell_type": "code",
   "execution_count": 7,
   "metadata": {},
   "outputs": [
    {
     "data": {
      "text/plain": [
       "tensor([[5.0000, 3.4000, 1.6000, 0.4000],\n",
       "        [6.3000, 3.4000, 5.6000, 2.4000],\n",
       "        [5.0000, 2.0000, 3.5000, 1.0000],\n",
       "        [5.0000, 3.5000, 1.6000, 0.6000],\n",
       "        [4.9000, 3.1000, 1.5000, 0.1000],\n",
       "        [5.4000, 3.4000, 1.7000, 0.2000],\n",
       "        [6.7000, 3.3000, 5.7000, 2.1000],\n",
       "        [4.8000, 3.1000, 1.6000, 0.2000],\n",
       "        [5.0000, 3.6000, 1.4000, 0.2000],\n",
       "        [5.2000, 3.5000, 1.5000, 0.2000],\n",
       "        [7.2000, 3.2000, 6.0000, 1.8000],\n",
       "        [4.8000, 3.4000, 1.9000, 0.2000],\n",
       "        [5.6000, 2.9000, 3.6000, 1.3000],\n",
       "        [4.6000, 3.1000, 1.5000, 0.2000],\n",
       "        [6.0000, 3.4000, 4.5000, 1.6000],\n",
       "        [6.5000, 2.8000, 4.6000, 1.5000],\n",
       "        [7.4000, 2.8000, 6.1000, 1.9000],\n",
       "        [7.2000, 3.6000, 6.1000, 2.5000],\n",
       "        [6.3000, 3.3000, 6.0000, 2.5000],\n",
       "        [6.2000, 2.9000, 4.3000, 1.3000],\n",
       "        [6.0000, 2.2000, 4.0000, 1.0000],\n",
       "        [6.3000, 2.5000, 5.0000, 1.9000],\n",
       "        [4.3000, 3.0000, 1.1000, 0.1000],\n",
       "        [5.7000, 2.8000, 4.5000, 1.3000],\n",
       "        [5.1000, 3.8000, 1.5000, 0.3000],\n",
       "        [7.6000, 3.0000, 6.6000, 2.1000],\n",
       "        [5.5000, 2.5000, 4.0000, 1.3000],\n",
       "        [5.5000, 2.6000, 4.4000, 1.2000],\n",
       "        [4.9000, 3.1000, 1.5000, 0.1000],\n",
       "        [4.8000, 3.0000, 1.4000, 0.3000],\n",
       "        [6.0000, 2.7000, 5.1000, 1.6000],\n",
       "        [7.1000, 3.0000, 5.9000, 2.1000],\n",
       "        [4.9000, 3.1000, 1.5000, 0.1000],\n",
       "        [5.4000, 3.7000, 1.5000, 0.2000],\n",
       "        [5.1000, 3.5000, 1.4000, 0.3000],\n",
       "        [5.5000, 4.2000, 1.4000, 0.2000],\n",
       "        [5.1000, 3.3000, 1.7000, 0.5000],\n",
       "        [5.9000, 3.2000, 4.8000, 1.8000],\n",
       "        [5.0000, 3.5000, 1.3000, 0.3000],\n",
       "        [5.8000, 2.7000, 4.1000, 1.0000],\n",
       "        [6.9000, 3.1000, 5.4000, 2.1000],\n",
       "        [7.7000, 2.6000, 6.9000, 2.3000],\n",
       "        [6.6000, 2.9000, 4.6000, 1.3000],\n",
       "        [6.1000, 2.8000, 4.7000, 1.2000],\n",
       "        [6.5000, 3.0000, 5.2000, 2.0000],\n",
       "        [5.7000, 2.9000, 4.2000, 1.3000],\n",
       "        [7.9000, 3.8000, 6.4000, 2.0000],\n",
       "        [6.7000, 3.0000, 5.2000, 2.3000],\n",
       "        [4.6000, 3.4000, 1.4000, 0.3000],\n",
       "        [5.8000, 2.8000, 5.1000, 2.4000],\n",
       "        [7.3000, 2.9000, 6.3000, 1.8000],\n",
       "        [4.6000, 3.6000, 1.0000, 0.2000],\n",
       "        [5.7000, 2.8000, 4.1000, 1.3000],\n",
       "        [6.9000, 3.1000, 5.1000, 2.3000],\n",
       "        [7.7000, 2.8000, 6.7000, 2.0000],\n",
       "        [6.3000, 2.9000, 5.6000, 1.8000],\n",
       "        [5.4000, 3.4000, 1.5000, 0.4000],\n",
       "        [5.2000, 3.4000, 1.4000, 0.2000],\n",
       "        [5.1000, 3.8000, 1.6000, 0.2000],\n",
       "        [6.4000, 3.2000, 4.5000, 1.5000],\n",
       "        [4.7000, 3.2000, 1.6000, 0.2000],\n",
       "        [6.7000, 3.1000, 4.4000, 1.4000],\n",
       "        [6.4000, 2.8000, 5.6000, 2.2000],\n",
       "        [5.8000, 2.7000, 5.1000, 1.9000],\n",
       "        [5.5000, 3.5000, 1.3000, 0.2000],\n",
       "        [5.0000, 3.2000, 1.2000, 0.2000],\n",
       "        [6.3000, 2.8000, 5.1000, 1.5000],\n",
       "        [6.3000, 2.3000, 4.4000, 1.3000],\n",
       "        [6.7000, 3.1000, 4.7000, 1.5000],\n",
       "        [6.8000, 3.2000, 5.9000, 2.3000],\n",
       "        [7.7000, 3.8000, 6.7000, 2.2000],\n",
       "        [6.4000, 3.2000, 5.3000, 2.3000],\n",
       "        [6.8000, 3.0000, 5.5000, 2.1000],\n",
       "        [6.4000, 3.1000, 5.5000, 1.8000],\n",
       "        [6.3000, 2.5000, 4.9000, 1.5000],\n",
       "        [5.5000, 2.3000, 4.0000, 1.3000],\n",
       "        [6.2000, 2.2000, 4.5000, 1.5000],\n",
       "        [6.4000, 2.9000, 4.3000, 1.3000],\n",
       "        [7.7000, 3.0000, 6.1000, 2.3000],\n",
       "        [7.2000, 3.0000, 5.8000, 1.6000],\n",
       "        [6.2000, 2.8000, 4.8000, 1.8000],\n",
       "        [6.0000, 2.9000, 4.5000, 1.5000],\n",
       "        [5.6000, 2.8000, 4.9000, 2.0000],\n",
       "        [6.0000, 2.2000, 5.0000, 1.5000],\n",
       "        [6.5000, 3.0000, 5.8000, 2.2000],\n",
       "        [6.5000, 3.0000, 5.5000, 1.8000],\n",
       "        [5.8000, 2.6000, 4.0000, 1.2000],\n",
       "        [6.7000, 2.5000, 5.8000, 1.8000],\n",
       "        [4.8000, 3.4000, 1.6000, 0.2000],\n",
       "        [6.3000, 2.7000, 4.9000, 1.8000],\n",
       "        [6.9000, 3.1000, 4.9000, 1.5000],\n",
       "        [6.4000, 2.8000, 5.6000, 2.1000],\n",
       "        [4.4000, 2.9000, 1.4000, 0.2000],\n",
       "        [6.1000, 3.0000, 4.6000, 1.4000],\n",
       "        [5.4000, 3.9000, 1.3000, 0.4000],\n",
       "        [5.1000, 3.4000, 1.5000, 0.2000],\n",
       "        [7.0000, 3.2000, 4.7000, 1.4000],\n",
       "        [5.4000, 3.9000, 1.7000, 0.4000],\n",
       "        [5.1000, 3.8000, 1.9000, 0.4000],\n",
       "        [5.7000, 3.8000, 1.7000, 0.3000],\n",
       "        [5.5000, 2.4000, 3.7000, 1.0000],\n",
       "        [5.7000, 3.0000, 4.2000, 1.2000],\n",
       "        [6.3000, 3.3000, 4.7000, 1.6000],\n",
       "        [5.0000, 3.4000, 1.5000, 0.2000],\n",
       "        [6.1000, 2.9000, 4.7000, 1.4000],\n",
       "        [5.8000, 2.7000, 5.1000, 1.9000],\n",
       "        [6.7000, 3.3000, 5.7000, 2.5000],\n",
       "        [4.8000, 3.0000, 1.4000, 0.1000],\n",
       "        [5.6000, 3.0000, 4.5000, 1.5000],\n",
       "        [5.0000, 3.3000, 1.4000, 0.2000],\n",
       "        [4.5000, 2.3000, 1.3000, 0.3000],\n",
       "        [6.1000, 3.0000, 4.9000, 1.8000],\n",
       "        [5.1000, 3.7000, 1.5000, 0.4000],\n",
       "        [5.8000, 2.7000, 3.9000, 1.2000],\n",
       "        [6.0000, 3.0000, 4.8000, 1.8000],\n",
       "        [6.5000, 3.2000, 5.1000, 2.0000],\n",
       "        [5.8000, 4.0000, 1.2000, 0.2000],\n",
       "        [6.4000, 2.7000, 5.3000, 1.9000],\n",
       "        [6.1000, 2.8000, 4.0000, 1.3000],\n",
       "        [4.4000, 3.0000, 1.3000, 0.2000]])"
      ]
     },
     "execution_count": 7,
     "metadata": {},
     "output_type": "execute_result"
    }
   ],
   "source": [
    "X_train"
   ]
  },
  {
   "cell_type": "code",
   "execution_count": 10,
   "metadata": {},
   "outputs": [],
   "source": [
    "class Model(nn.Module):\n",
    "    def __init__(self,in_1,h1,h2,out1):\n",
    "        super().__init__()\n",
    "        #we're predicting multiple classes so we we'll have 1 hidden layer besides 1 i/p and 1 o/p layer\n",
    "        self.fc1 = nn.Linear(in_1,h1)\n",
    "        self.fc2 = nn.Linear(h1,h2)\n",
    "        self.out = nn.Linear(h2,out1)\n",
    "\n",
    "    def forward(self,x):\n",
    "        x = F.relu(self.fc1(x))\n",
    "        x= F.relu(self.fc2(x))\n",
    "        x = self.out(x)\n",
    "        return x"
   ]
  },
  {
   "cell_type": "code",
   "execution_count": 11,
   "metadata": {},
   "outputs": [],
   "source": [
    "model = Model(4,8,9,3)"
   ]
  },
  {
   "cell_type": "code",
   "execution_count": 12,
   "metadata": {},
   "outputs": [],
   "source": [
    "#defining our loss and optimizer\n",
    "criterion = nn.CrossEntropyLoss()\n",
    "optimizer = torch.optim.Adam(model.parameters(),lr=0.01)"
   ]
  },
  {
   "cell_type": "code",
   "execution_count": 18,
   "metadata": {},
   "outputs": [
    {
     "data": {
      "text/plain": [
       "tensor([0, 0, 0, 2, 1, 1, 0, 2, 0, 2, 0, 2, 2, 1, 1, 2, 0, 2, 2, 1, 0, 1, 2, 2,\n",
       "        1, 0, 2, 1, 1, 2, 1, 2, 0, 0, 1, 2, 1, 1, 0, 2, 2, 2, 1, 0, 1, 2, 0, 0,\n",
       "        2, 0, 2, 0, 1, 1, 1, 2, 0, 1, 2, 1, 2, 0, 0, 0, 2, 1, 1, 1, 1, 0, 0, 0,\n",
       "        1, 2, 2, 2, 0, 1, 1, 0, 1, 0, 1, 0, 2, 1, 2, 0, 0, 0, 1, 2, 0, 2, 2, 2,\n",
       "        1, 2, 1, 2, 2, 1, 2, 1, 0, 2, 1, 1, 2, 0, 2, 0, 0, 1, 2, 0, 2, 0, 1, 1])"
      ]
     },
     "execution_count": 18,
     "metadata": {},
     "output_type": "execute_result"
    }
   ],
   "source": [
    "y_train"
   ]
  },
  {
   "cell_type": "code",
   "execution_count": 19,
   "metadata": {},
   "outputs": [
    {
     "name": "stdout",
     "output_type": "stream",
     "text": [
      " Epoch20 loss: 0.8228746056556702\n",
      " Epoch40 loss: 0.5519895553588867\n",
      " Epoch60 loss: 0.44921550154685974\n",
      " Epoch80 loss: 0.28115376830101013\n",
      " Epoch100 loss: 0.16582468152046204\n"
     ]
    }
   ],
   "source": [
    "#training the model: finding apt parameters for our model (weights and biases)\n",
    "epochs =100\n",
    "losses = []\n",
    "for i in range(epochs):\n",
    "    i+=1\n",
    "    y_pred = model.forward(X_train)\n",
    "    loss = criterion(y_pred,y_train)\n",
    "    losses.append(loss.item())\n",
    "    optimizer.zero_grad()\n",
    "    loss.backward()\n",
    "    optimizer.step() # update weights and biases of the model\n",
    "    if i % 20 ==0:\n",
    "        print(f' Epoch{i} loss: {loss.item()}')\n",
    "    "
   ]
  },
  {
   "cell_type": "code",
   "execution_count": 21,
   "metadata": {},
   "outputs": [
    {
     "data": {
      "text/plain": [
       "[<matplotlib.lines.Line2D at 0x1d8f671e5c0>]"
      ]
     },
     "execution_count": 21,
     "metadata": {},
     "output_type": "execute_result"
    },
    {
     "data": {
      "image/png": "[encoded data removed]",
      "text/plain": [
       "<Figure size 640x480 with 1 Axes>"
      ]
     },
     "metadata": {},
     "output_type": "display_data"
    }
   ],
   "source": [
    "plt.plot(range(epochs), losses)"
   ]
  },
  {
   "cell_type": "code",
   "execution_count": 23,
   "metadata": {},
   "outputs": [
    {
     "name": "stdout",
     "output_type": "stream",
     "text": [
      "corrected  30 out of  30\n"
     ]
    }
   ],
   "source": [
    "corrected =0\n",
    "\n",
    "with torch.no_grad():\n",
    "    for i,data in enumerate(X_test):\n",
    "        y_val = model.forward(data)\n",
    "        if y_val.argmax().item() == y_test[i]:\n",
    "            corrected+=1\n",
    "\n",
    "\n",
    "print('corrected ',corrected, 'out of ', len(y_test))"
   ]
  },
  {
   "cell_type": "code",
   "execution_count": 26,
   "metadata": {},
   "outputs": [],
   "source": [
    "#save a model:  we can use torch.save() and .load() for loading\n",
    "#we can just store the model parameters by specifying the model.state_dict()\n",
    "torch.save(model.state_dict(), './saved_model.pt')"
   ]
  },
  {
   "cell_type": "code",
   "execution_count": 29,
   "metadata": {},
   "outputs": [
    {
     "data": {
      "text/plain": [
       "Model(\n",
       "  (fc1): Linear(in_features=4, out_features=8, bias=True)\n",
       "  (fc2): Linear(in_features=8, out_features=9, bias=True)\n",
       "  (out): Linear(in_features=9, out_features=3, bias=True)\n",
       ")"
      ]
     },
     "execution_count": 29,
     "metadata": {},
     "output_type": "execute_result"
    }
   ],
   "source": [
    "new_model = Model(4,8,9,3)\n",
    "new_model.load_state_dict(torch.load('./saved_model.pt'))\n",
    "new_model.eval()"
   ]
  },
  {
   "cell_type": "code",
   "execution_count": 32,
   "metadata": {},
   "outputs": [
    {
     "name": "stdout",
     "output_type": "stream",
     "text": [
      "tensor([  7.5903,   4.2250, -13.2278])\n",
      "Iris setosa\n"
     ]
    }
   ],
   "source": [
    "#testing it for unseen data:\n",
    "mystery_iris = torch.tensor([5.6,3.7,2.2,0.5])\n",
    "with torch.no_grad():\n",
    "    y_pred1= model.forward(mystery_iris)\n",
    "    print(y_pred1)\n",
    "    labels = ['Iris setosa','Iris virginica','Iris versicolor','Mystery iris']\n",
    "    print(labels[y_pred1.argmax()])"
   ]
  },
  {
   "cell_type": "code",
   "execution_count": null,
   "metadata": {},
   "outputs": [],
   "source": []
  }
 ],
 "metadata": {
  "kernelspec": {
   "display_name": "Python 3",
   "language": "python",
   "name": "python3"
  },
  "language_info": {
   "codemirror_mode": {
    "name": "ipython",
    "version": 3
   },
   "file_extension": ".py",
   "mimetype": "text/x-python",
   "name": "python",
   "nbconvert_exporter": "python",
   "pygments_lexer": "ipython3",
   "version": "3.10.7"
  },
  "orig_nbformat": 4,
  "vscode": {
   "interpreter": {
    "hash": "369f2c481f4da34e4445cda3fffd2e751bd1c4d706f27375911949ba6bb62e1c"
   }
  }
 },
 "nbformat": 4,
 "nbformat_minor": 2
}
